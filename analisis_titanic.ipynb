{
 "cells": [
  {
   "cell_type": "markdown",
   "id": "6a232c03-2ccc-452d-b56a-4b1794d1ef98",
   "metadata": {},
   "source": [
    "<img src=\"logo.png\" alt=\"Logo\" width=\"10%\">"
   ]
  },
  {
   "cell_type": "markdown",
   "id": "37a53243-7cc4-4a07-9f5b-f769703cc058",
   "metadata": {},
   "source": [
    "#    Supervivencia en el Titanic: Una historia contada con datos"
   ]
  },
  {
   "cell_type": "markdown",
   "id": "53dd03aa",
   "metadata": {},
   "source": [
    "## 1. Introducción\n",
    "\n",
    "El hundimiento del RMS Titanic es uno de los naufragios más famosos de la historia. El 15 de abril de 1912, durante su viaje inaugural, el Titanic se hundió tras chocar con un iceberg, resultando en la muerte de 1.502 personas de las 2.224 que viajaban a bordo.\n",
    "\n",
    "Este análisis busca responder a la pregunta: **¿Qué factores influyeron en la supervivencia de los pasajeros?** Exploraremos variables como clase social, género, edad y más para entender patrones que podrían haber determinado quién sobrevivió a esta tragedia.\n",
    "\n",
    "A través de este análisis, no solo estaremos aplicando técnicas de ciencia de datos, sino también contando la historia humana detrás de los números, honrando la memoria de quienes estuvieron en esta tragedia."
   ]
  },
  {
   "cell_type": "markdown",
   "id": "6b745f72",
   "metadata": {},
   "source": [
    "## 2. Preparación de los Datos\n",
    "\n",
    "Primero, carguemos las bibliotecas necesarias y exploremos el conjunto de datos:"
   ]
  },
  {
   "cell_type": "code",
   "execution_count": null,
   "id": "3cb50c6d-3df0-45b1-9bae-0753ccfe4048",
   "metadata": {},
   "outputs": [],
   "source": [
    "# Importamos las bibliotecas necesarias\n",
    "import pandas as pd\n",
    "import numpy as np\n",
    "import matplotlib.pyplot as plt\n",
    "import seaborn as sns\n",
    "\n",
    "# Configuraciones para visualizaciones\n",
    "plt.style.use('seaborn-v0_8')\n",
    "plt.rcParams['figure.figsize'] = (12, 6)\n",
    "plt.rcParams['font.size'] = 12\n",
    "sns.set(font_scale=1.2)\n",
    "\n",
    "# Para mostrar todas las columnas del DataFrame\n",
    "pd.set_option('display.max_columns', None)\n",
    "\n",
    "# Para evitar advertencias\n",
    "import warnings\n",
    "warnings.filterwarnings('ignore')"
   ]
  },
  {
   "cell_type": "code",
   "execution_count": null,
   "id": "5f5a2a01",
   "metadata": {},
   "outputs": [],
   "source": [
    "# Cargamos el dataset\n",
    "df = pd.read_csv('df_titanic.csv')\n",
    "\n",
    "# Visualizamos las primeras filas\n",
    "df.head()"
   ]
  },
  {
   "cell_type": "markdown",
   "id": "8b2f2a03",
   "metadata": {},
   "source": [
    "### 2.1 Explorando el Dataset\n",
    "\n",
    "Nuestro dataset contiene información detallada sobre los pasajeros del Titanic. Veamos qué información tenemos disponible y su estructura:"
   ]
  },
  {
   "cell_type": "code",
   "execution_count": null,
   "id": "9c2f2a05",
   "metadata": {},
   "outputs": [],
   "source": [
    "# Verificamos el tamaño del dataset\n",
    "print(f\"Dimensiones del dataset: {df.shape}\")\n",
    "\n",
    "# Verificamos los tipos de datos\n",
    "print(\"\\nTipos de datos:\")\n",
    "print(df.dtypes)\n",
    "\n",
    "# Verificamos valores nulos\n",
    "print(\"\\nValores nulos por columna:\")\n",
    "print(df.isnull().sum())"
   ]
  },
  {
   "cell_type": "markdown",
   "id": "0a1c3a05",
   "metadata": {},
   "source": [
    "### 2.2 Descripción de Columnas\n",
    "\n",
    "Nuestro dataset contiene la siguiente información:\n",
    "\n",
    "- **pclass**: Clase del pasajero (1 = Primera clase, 2 = Segunda clase, 3 = Tercera clase)\n",
    "- **survived**: Si el pasajero sobrevivió (1) o no (0)\n",
    "- **name**: Nombre del pasajero\n",
    "- **sex**: Género del pasajero\n",
    "- **age**: Edad del pasajero\n",
    "- **sibsp**: Número de hermanos/cónyuges a bordo\n",
    "- **parch**: Número de padres/hijos a bordo\n",
    "- **ticket**: Número de boleto\n",
    "- **fare**: Tarifa pagada\n",
    "- **cabin**: Número de cabina\n",
    "- **embarked**: Puerto de embarque (C = Cherbourg, Q = Queenstown, S = Southampton)\n",
    "- **boat**: Bote salvavidas (si sobrevivió)\n",
    "- **body**: Número de identificación del cuerpo (si no sobrevivió y fue recuperado)\n",
    "- **home.dest**: Destino del hogar\n",
    "\n",
    "Observamos que hay valores nulos en varias columnas, especialmente en 'age', 'cabin', 'boat', 'body' y 'home.dest'."
   ]
  },
  {
   "cell_type": "code",
   "execution_count": null,
   "id": "1c3c3a07",
   "metadata": {},
   "outputs": [],
   "source": [
    "# Estadísticas descriptivas\n",
    "df.describe()"
   ]
  },
  {
   "cell_type": "markdown",
   "id": "2c3c3a09",
   "metadata": {},
   "source": [
    "### 2.3 Análisis Estadístico Preliminar\n",
    "\n",
    "A partir de las estadísticas descriptivas podemos observar que:\n",
    "\n",
    "- La tasa de supervivencia general fue aproximadamente del 38.2%.\n",
    "- La edad promedio de los pasajeros era de aproximadamente 29.9 años, con personas desde bebés hasta ancianos de 80 años.\n",
    "- La mayoría de los pasajeros viajaban solos o con pocos familiares (el promedio de sibsp es 0.5 y de parch es 0.38).\n",
    "- Las tarifas variaban enormemente, desde pasajeros que no pagaron hasta aquellos que pagaron más de 500 libras esterlinas.\n",
    "- La mayoría de los pasajeros viajaba en tercera clase (aproximadamente el 55%)."
   ]
  }
 ],
 "metadata": {
  "kernelspec": {
   "display_name": "Python [conda env:base] *",
   "language": "python",
   "name": "conda-base-py"
  },
  "language_info": {
   "codemirror_mode": {
    "name": "ipython",
    "version": 3
   },
   "file_extension": ".py",
   "mimetype": "text/x-python",
   "name": "python",
   "nbconvert_exporter": "python",
   "pygments_lexer": "ipython3",
   "version": "3.12.7"
  }
 },
 "nbformat": 4,
 "nbformat_minor": 5
}